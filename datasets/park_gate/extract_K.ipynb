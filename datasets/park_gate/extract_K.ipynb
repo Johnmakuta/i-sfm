{
 "cells": [
  {
   "cell_type": "code",
   "execution_count": 1,
   "id": "cd67826e",
   "metadata": {},
   "outputs": [
    {
     "name": "stdout",
     "output_type": "stream",
     "text": [
      "Camera Calibration Matrix K:\n",
      "[[ 2.46907447e+03  7.10542736e-13  9.76773452e+02]\n",
      " [ 0.00000000e+00  2.49523328e+03  6.34011438e+02]\n",
      " [ 0.00000000e+00 -0.00000000e+00  1.00000000e+00]]\n"
     ]
    }
   ],
   "source": [
    "import numpy as np\n",
    "from scipy.io import loadmat\n",
    "\n",
    "def rq_decompose(M):\n",
    "    \"\"\"\n",
    "    Perform RQ decomposition on a 3x3 matrix M.\n",
    "    Returns K (upper triangular) and R (orthogonal) such that M = K @ R.\n",
    "    \"\"\"\n",
    "    n = M.shape[0]\n",
    "    p = np.fliplr(np.eye(n))\n",
    "    # Flip matrix and perform QR decomposition\n",
    "    Q_flip, R_flip = np.linalg.qr(p @ M.T @ p)\n",
    "    K = p @ R_flip.T @ p\n",
    "    R = p @ Q_flip @ p\n",
    "    return K, R.conj().T\n",
    "\n",
    "def normalize_K(K):\n",
    "    \"\"\"\n",
    "    Normalize the calibration matrix so that K[2,2] = 1,\n",
    "    and ensure all diagonal elements are positive.\n",
    "    \"\"\"\n",
    "    K = K / K[2, 2]\n",
    "    for i in range(3):\n",
    "        if K[i, i] < 0:\n",
    "            K[:, i] *= -1\n",
    "    return K\n",
    "\n",
    "def main():\n",
    "    # Load the .mat file\n",
    "    data = loadmat('data.mat')\n",
    "\n",
    "    # Extract the first camera's projection matrix P (3x4)\n",
    "    P = data['P'][0, 0]  # Adjust indexing based on the structure of your .mat file\n",
    "\n",
    "    # Extract the 3x3 submatrix (K * R)\n",
    "    M = P[:, :3]\n",
    "\n",
    "    # Perform RQ decomposition to get K and R\n",
    "    K, R = rq_decompose(M)\n",
    "\n",
    "    # Normalize K\n",
    "    K = normalize_K(K)\n",
    "\n",
    "    # Save K to a text file\n",
    "    np.savetxt('K.txt', K, fmt='%.6f')\n",
    "\n",
    "    print(\"Camera Calibration Matrix K:\")\n",
    "    print(K)\n",
    "\n",
    "if __name__ == '__main__':\n",
    "    main()"
   ]
  },
  {
   "cell_type": "code",
   "execution_count": null,
   "id": "1c79cc6d",
   "metadata": {},
   "outputs": [
    {
     "ename": "FileNotFoundError",
     "evalue": "Folder not found: ./datasets/park_gate",
     "output_type": "error",
     "traceback": [
      "\u001b[0;31m---------------------------------------------------------------------------\u001b[0m",
      "\u001b[0;31mFileNotFoundError\u001b[0m                         Traceback (most recent call last)",
      "Cell \u001b[0;32mIn[1], line 35\u001b[0m\n\u001b[1;32m     33\u001b[0m \u001b[38;5;28;01mif\u001b[39;00m \u001b[38;5;18m__name__\u001b[39m \u001b[38;5;241m==\u001b[39m \u001b[38;5;124m'\u001b[39m\u001b[38;5;124m__main__\u001b[39m\u001b[38;5;124m'\u001b[39m:\n\u001b[1;32m     34\u001b[0m     dataset_path \u001b[38;5;241m=\u001b[39m \u001b[38;5;124m'\u001b[39m\u001b[38;5;124m./datasets/park_gate\u001b[39m\u001b[38;5;124m'\u001b[39m  \u001b[38;5;66;03m# Change this to your image folder\u001b[39;00m\n\u001b[0;32m---> 35\u001b[0m     \u001b[43mrename_images_sequentially\u001b[49m\u001b[43m(\u001b[49m\u001b[43mdataset_path\u001b[49m\u001b[43m,\u001b[49m\u001b[43m \u001b[49m\u001b[43mext\u001b[49m\u001b[38;5;241;43m=\u001b[39;49m\u001b[38;5;124;43m'\u001b[39;49m\u001b[38;5;124;43m.JPG\u001b[39;49m\u001b[38;5;124;43m'\u001b[39;49m\u001b[43m)\u001b[49m\n",
      "Cell \u001b[0;32mIn[1], line 7\u001b[0m, in \u001b[0;36mrename_images_sequentially\u001b[0;34m(folder_path, ext)\u001b[0m\n\u001b[1;32m      5\u001b[0m folder \u001b[38;5;241m=\u001b[39m Path(folder_path)\n\u001b[1;32m      6\u001b[0m \u001b[38;5;28;01mif\u001b[39;00m \u001b[38;5;129;01mnot\u001b[39;00m folder\u001b[38;5;241m.\u001b[39mexists():\n\u001b[0;32m----> 7\u001b[0m     \u001b[38;5;28;01mraise\u001b[39;00m \u001b[38;5;167;01mFileNotFoundError\u001b[39;00m(\u001b[38;5;124mf\u001b[39m\u001b[38;5;124m\"\u001b[39m\u001b[38;5;124mFolder not found: \u001b[39m\u001b[38;5;132;01m{\u001b[39;00mfolder_path\u001b[38;5;132;01m}\u001b[39;00m\u001b[38;5;124m\"\u001b[39m)\n\u001b[1;32m      9\u001b[0m \u001b[38;5;66;03m# List all image files with supported extensions\u001b[39;00m\n\u001b[1;32m     10\u001b[0m image_extensions \u001b[38;5;241m=\u001b[39m [\u001b[38;5;124m'\u001b[39m\u001b[38;5;124m.jpg\u001b[39m\u001b[38;5;124m'\u001b[39m, \u001b[38;5;124m'\u001b[39m\u001b[38;5;124m.jpeg\u001b[39m\u001b[38;5;124m'\u001b[39m, \u001b[38;5;124m'\u001b[39m\u001b[38;5;124m.png\u001b[39m\u001b[38;5;124m'\u001b[39m, \u001b[38;5;124m'\u001b[39m\u001b[38;5;124m.bmp\u001b[39m\u001b[38;5;124m'\u001b[39m, \u001b[38;5;124m'\u001b[39m\u001b[38;5;124m.tiff\u001b[39m\u001b[38;5;124m'\u001b[39m, \u001b[38;5;124m'\u001b[39m\u001b[38;5;124m.tif\u001b[39m\u001b[38;5;124m'\u001b[39m, \u001b[38;5;124m'\u001b[39m\u001b[38;5;124m.gif\u001b[39m\u001b[38;5;124m'\u001b[39m]\n",
      "\u001b[0;31mFileNotFoundError\u001b[0m: Folder not found: ./datasets/park_gate"
     ]
    }
   ],
   "source": []
  }
 ],
 "metadata": {
  "kernelspec": {
   "display_name": "sfm",
   "language": "python",
   "name": "python3"
  },
  "language_info": {
   "codemirror_mode": {
    "name": "ipython",
    "version": 3
   },
   "file_extension": ".py",
   "mimetype": "text/x-python",
   "name": "python",
   "nbconvert_exporter": "python",
   "pygments_lexer": "ipython3",
   "version": "3.10.17"
  }
 },
 "nbformat": 4,
 "nbformat_minor": 5
}
